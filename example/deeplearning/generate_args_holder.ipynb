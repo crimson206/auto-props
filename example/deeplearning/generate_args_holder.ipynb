{
 "cells": [
  {
   "cell_type": "code",
   "execution_count": 10,
   "metadata": {},
   "outputs": [],
   "source": [
    "from arguments import ArgParser\n",
    "from crimson.auto_props import generate_model, generate_file\n",
    "from crimson.auto_props.editors.convert_dict import convert_json_to_yaml_code_block, sort_dictionary_order\n",
    "from crimson.auto_props.generate_args import type_to_str\n",
    "from crimson.auto_props.external.fhiis import get_registered_arguments\n",
    "\n",
    "argparser = ArgParser()\n",
    "\n",
    "argparser.add_train_arguments()\n",
    "\n",
    "# argparse.ArgumentParser 객체에서 기본 인자 추출\n",
    "parser = argparser.parser\n",
    "\n",
    "\n",
    "\n",
    "properties = get_registered_arguments(parser)\n",
    "\n"
   ]
  },
  {
   "cell_type": "code",
   "execution_count": 11,
   "metadata": {},
   "outputs": [
    {
     "name": "stdout",
     "output_type": "stream",
     "text": [
      "``` yaml\n",
      "name: id\n",
      "type: !!python/name:builtins.str ''\n",
      "default: ''\n",
      "help: a name for identifying the model\n",
      "choices: null\n",
      "```\n"
     ]
    }
   ],
   "source": [
    "pretty_dict_string = convert_json_to_yaml_code_block(properties[0])\n",
    "\n",
    "new_order = [\n",
    "    'name',\n",
    "    'type',\n",
    "    'default',\n",
    "    'choices',\n",
    "    'help'\n",
    "]\n",
    "\n",
    "for property in properties:\n",
    "    sorted_property = sort_dictionary_order(property, new_order)\n",
    "    sorted_property['type'] = type_to_str(sorted_property['type'])\n",
    "    property['description'] = convert_json_to_yaml_code_block(sorted_property)"
   ]
  },
  {
   "cell_type": "code",
   "execution_count": 15,
   "metadata": {},
   "outputs": [
    {
     "data": {
      "text/plain": [
       "{'name': 'lr_drop_maskformer_2',\n",
       " 'type': int,\n",
       " 'default': 80,\n",
       " 'choices': None,\n",
       " 'help': 'lr_drop'}"
      ]
     },
     "execution_count": 15,
     "metadata": {},
     "output_type": "execute_result"
    }
   ],
   "source": [
    "sort_dictionary_order(property, new_order)"
   ]
  },
  {
   "cell_type": "code",
   "execution_count": 16,
   "metadata": {},
   "outputs": [
    {
     "name": "stdout",
     "output_type": "stream",
     "text": [
      "File generated at: annotated/args_type.py\n"
     ]
    }
   ],
   "source": [
    "\n",
    "\n",
    "model_string = generate_model(\n",
    "    cls_name='Args_',\n",
    "    properties=properties     \n",
    ")\n",
    "\n",
    "generate_file(\n",
    "    content=model_string,\n",
    "    directory='annotated',\n",
    "    filename=\"args_type.py\"\n",
    ")"
   ]
  },
  {
   "cell_type": "code",
   "execution_count": null,
   "metadata": {},
   "outputs": [],
   "source": []
  }
 ],
 "metadata": {
  "kernelspec": {
   "display_name": "annotation-generator",
   "language": "python",
   "name": "python3"
  },
  "language_info": {
   "codemirror_mode": {
    "name": "ipython",
    "version": 3
   },
   "file_extension": ".py",
   "mimetype": "text/x-python",
   "name": "python",
   "nbconvert_exporter": "python",
   "pygments_lexer": "ipython3",
   "version": "3.11.9"
  }
 },
 "nbformat": 4,
 "nbformat_minor": 2
}
