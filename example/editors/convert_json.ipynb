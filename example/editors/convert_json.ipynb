{
 "cells": [
  {
   "cell_type": "code",
   "execution_count": 3,
   "metadata": {},
   "outputs": [
    {
     "name": "stdout",
     "output_type": "stream",
     "text": [
      "```yaml\n",
      "address:\n",
      "  city: Anytown\n",
      "  street: 123 Main St\n",
      "  zipcode: '12345'\n",
      "age: 30\n",
      "children: null\n",
      "emails:\n",
      "- john.doe@example.com\n",
      "- jdoe@workplace.org\n",
      "is_active: true\n",
      "name: John Doe\n",
      "phone_numbers:\n",
      "- number: 123-456-7890\n",
      "  type: home\n",
      "- number: 987-654-3210\n",
      "  type: work\n",
      "```\n"
     ]
    }
   ],
   "source": [
    "from crimson.annotation_generator.editors.convert_dict import convert_json_to_yaml_code_block\n",
    "from crimson.annotation_generator.util import get_registered_arguments\n",
    "\n",
    "complex_dict = {\n",
    "    \"name\": \"John Doe\",\n",
    "    \"age\": 30,\n",
    "    \"address\": {\n",
    "        \"street\": \"123 Main St\",\n",
    "        \"city\": \"Anytown\",\n",
    "        \"zipcode\": \"12345\"\n",
    "    },\n",
    "    \"phone_numbers\": [\n",
    "        {\"type\": \"home\", \"number\": \"123-456-7890\"},\n",
    "        {\"type\": \"work\", \"number\": \"987-654-3210\"}\n",
    "    ],\n",
    "    \"emails\": [\"john.doe@example.com\", \"jdoe@workplace.org\"],\n",
    "    \"children\": None,\n",
    "    \"is_active\": True\n",
    "}\n",
    "\n",
    "convert_json_to_yaml_code_block(complex_dict)\n",
    "\n",
    "print(convert_json_to_yaml_code_block(complex_dict))"
   ]
  },
  {
   "cell_type": "code",
   "execution_count": null,
   "metadata": {},
   "outputs": [],
   "source": [
    "def doc_holder():\n",
    "    \"\"\"\n",
    "    ``` yaml\n",
    "    address:\n",
    "    city: Anytown\n",
    "    street: 123 Main St\n",
    "    zipcode: '12345'\n",
    "    age: 30\n",
    "    children: null\n",
    "    emails:\n",
    "    - john.doe@example.com\n",
    "    - jdoe@workplace.org\n",
    "    is_active: true\n",
    "    name: John Doe\n",
    "    phone_numbers:\n",
    "    - number: 123-456-7890\n",
    "    type: home\n",
    "    - number: 987-654-3210\n",
    "    type: work\n",
    "    ```\n",
    "    \"\"\""
   ]
  }
 ],
 "metadata": {
  "kernelspec": {
   "display_name": "annotation-generator",
   "language": "python",
   "name": "python3"
  },
  "language_info": {
   "codemirror_mode": {
    "name": "ipython",
    "version": 3
   },
   "file_extension": ".py",
   "mimetype": "text/x-python",
   "name": "python",
   "nbconvert_exporter": "python",
   "pygments_lexer": "ipython3",
   "version": "3.11.9"
  }
 },
 "nbformat": 4,
 "nbformat_minor": 2
}
