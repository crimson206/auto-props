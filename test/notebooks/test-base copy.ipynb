{
 "cells": [
  {
   "cell_type": "markdown",
   "metadata": {},
   "source": [
    "# Interactive Tests for base.py\n",
    "\n",
    "This notebook contains interactive tests and demonstrations for the functions in `base.py`."
   ]
  },
  {
   "cell_type": "code",
   "execution_count": 1,
   "metadata": {},
   "outputs": [],
   "source": [
    "from crimson.auto_props.generate_model.base import type_to_str, generate_property, generate_setter\n",
    "from typing import Dict, Any"
   ]
  },
  {
   "cell_type": "markdown",
   "metadata": {},
   "source": [
    "## Testing type_to_str function"
   ]
  },
  {
   "cell_type": "code",
   "execution_count": 5,
   "metadata": {},
   "outputs": [
    {
     "name": "stdout",
     "output_type": "stream",
     "text": [
      "Basic types:\n",
      "str: str\n",
      "int: int\n",
      "float: float\n",
      "bool: bool\n",
      "None: None\n",
      "\n",
      "Complex types:\n",
      "List: typing.List\n",
      "Dict: typing.Dict\n",
      "Union: typing.Union\n",
      "Any: Any\n",
      "\n",
      "Custom class:\n",
      "CustomClass: CustomClass\n",
      "\n",
      "Function:\n",
      "custom_function: <function custom_function at 0x7f0fe4628f40>\n",
      "\n",
      "String representation:\n",
      "'custom_type': custom_type\n",
      "\n",
      "Generic types:\n",
      "GenericClass: GenericClass\n",
      "GenericClass[int]: __main__.GenericClass[int]\n",
      "\n",
      "Built-in classes:\n",
      "list: list\n",
      "dict: dict\n",
      "tuple: tuple\n",
      "set: set\n",
      "\n",
      "Module:\n",
      "math module: <module 'crimson.intelli_type' from '/home/crimson/miniconda3/envs/auto-props/lib/python3.11/site-packages/crimson/intelli_type/__init__.py'>\n"
     ]
    }
   ],
   "source": [
    "from typing import List, Dict, Union, Any\n",
    "\n",
    "# Basic types\n",
    "print(\"Basic types:\")\n",
    "print(f\"str: {type_to_str(str)}\")\n",
    "print(f\"int: {type_to_str(int)}\")\n",
    "print(f\"float: {type_to_str(float)}\")\n",
    "print(f\"bool: {type_to_str(bool)}\")\n",
    "print(f\"None: {type_to_str(None)}\")\n",
    "\n",
    "# Complex types\n",
    "print(\"\\nComplex types:\")\n",
    "print(f\"List: {type_to_str(List)}\")\n",
    "print(f\"Dict: {type_to_str(Dict)}\")\n",
    "print(f\"Union: {type_to_str(Union)}\")\n",
    "print(f\"Any: {type_to_str(Any)}\")\n",
    "\n",
    "# Custom class\n",
    "class CustomClass:\n",
    "    pass\n",
    "\n",
    "print(\"\\nCustom class:\")\n",
    "print(f\"CustomClass: {type_to_str(CustomClass)}\")\n",
    "\n",
    "# Function\n",
    "def custom_function(arg1:int=1):\n",
    "    pass\n",
    "\n",
    "print(\"\\nFunction:\")\n",
    "print(f\"custom_function: {type_to_str(custom_function)}\")\n",
    "\n",
    "# String representation of type\n",
    "print(\"\\nString representation:\")\n",
    "print(f\"'custom_type': {type_to_str('custom_type')}\")\n",
    "\n",
    "# Generic types\n",
    "from typing import TypeVar, Generic\n",
    "\n",
    "T = TypeVar('T')\n",
    "\n",
    "class GenericClass(Generic[T]):\n",
    "    pass\n",
    "\n",
    "print(\"\\nGeneric types:\")\n",
    "print(f\"GenericClass: {type_to_str(GenericClass)}\")\n",
    "print(f\"GenericClass[int]: {type_to_str(GenericClass[int])}\")\n",
    "\n",
    "# Built-in classes\n",
    "print(\"\\nBuilt-in classes:\")\n",
    "print(f\"list: {type_to_str(list)}\")\n",
    "print(f\"dict: {type_to_str(dict)}\")\n",
    "print(f\"tuple: {type_to_str(tuple)}\")\n",
    "print(f\"set: {type_to_str(set)}\")\n",
    "\n",
    "# Module\n",
    "import math\n",
    "from crimson import intelli_type\n",
    "\n",
    "print(\"\\nModule:\")\n",
    "print(f\"math module: {type_to_str(intelli_type)}\")"
   ]
  },
  {
   "cell_type": "code",
   "execution_count": 9,
   "metadata": {},
   "outputs": [
    {
     "data": {
      "text/plain": [
       "typing._SpecialGenericAlias"
      ]
     },
     "execution_count": 9,
     "metadata": {},
     "output_type": "execute_result"
    }
   ],
   "source": [
    "type(List)"
   ]
  },
  {
   "cell_type": "code",
   "execution_count": null,
   "metadata": {},
   "outputs": [],
   "source": [
    "from typing import Protocol\n",
    "\n",
    "class CustomFunctionProtocol(Protocol):\n",
    "    def __call__(self, arg1: int = 1) -> None:\n",
    "        ...\n",
    "\n",
    "def higher_order_function(func: CustomFunctionProtocol):\n",
    "    func(arg1 = 1)\n",
    "    pass"
   ]
  },
  {
   "cell_type": "code",
   "execution_count": null,
   "metadata": {},
   "outputs": [],
   "source": [
    "from typing import Protocol, Iterator, TypeVar\n",
    "\n",
    "T = TypeVar('T')\n",
    "\n",
    "class IterableProtocol(Protocol[T]):\n",
    "    def __iter__(self) -> Iterator[T]:\n",
    "        ...\n",
    "\n",
    "def process_items(items: IterableProtocol[Dict]) -> None:\n",
    "    for item in items:\n",
    "        item"
   ]
  },
  {
   "cell_type": "code",
   "execution_count": null,
   "metadata": {},
   "outputs": [],
   "source": []
  },
  {
   "cell_type": "code",
   "execution_count": 6,
   "metadata": {},
   "outputs": [
    {
     "data": {
      "text/plain": [
       "typing._GenericAlias"
      ]
     },
     "execution_count": 6,
     "metadata": {},
     "output_type": "execute_result"
    }
   ],
   "source": [
    "type(GenericClass[int])"
   ]
  },
  {
   "cell_type": "code",
   "execution_count": null,
   "metadata": {},
   "outputs": [],
   "source": [
    "def func(function: custom_function):\n",
    "    function()\n",
    "    "
   ]
  },
  {
   "cell_type": "markdown",
   "metadata": {},
   "source": [
    "## Testing generate_property function"
   ]
  },
  {
   "cell_type": "code",
   "execution_count": 3,
   "metadata": {},
   "outputs": [
    {
     "name": "stdout",
     "output_type": "stream",
     "text": [
      "\n",
      "@property\n",
      "def example_property(self) -> str:\n",
      "    \"\"\"\n",
      "    This is an example property.\n",
      "    \"\"\"\n",
      "    return self._example_property\n",
      "\n"
     ]
    }
   ],
   "source": [
    "property_dict: Dict[str, Any] = {\n",
    "    \"name\": \"example_property\",\n",
    "    \"type\": str,\n",
    "    \"description\": \"This is an example property.\"\n",
    "}\n",
    "\n",
    "print(generate_property(property_dict))"
   ]
  },
  {
   "cell_type": "markdown",
   "metadata": {},
   "source": [
    "## Testing generate_setter function"
   ]
  },
  {
   "cell_type": "code",
   "execution_count": 4,
   "metadata": {},
   "outputs": [
    {
     "name": "stdout",
     "output_type": "stream",
     "text": [
      "\n",
      "@example_property.setter\n",
      "def example_property(self, value: str):\n",
      "    self._example_property = value\n",
      "\n"
     ]
    }
   ],
   "source": [
    "setter_dict: Dict[str, Any] = {\n",
    "    \"name\": \"example_property\",\n",
    "    \"type\": str\n",
    "}\n",
    "\n",
    "print(generate_setter(setter_dict))"
   ]
  }
 ],
 "metadata": {
  "kernelspec": {
   "display_name": "Python 3",
   "language": "python",
   "name": "python3"
  },
  "language_info": {
   "codemirror_mode": {
    "name": "ipython",
    "version": 3
   },
   "file_extension": ".py",
   "mimetype": "text/x-python",
   "name": "python",
   "nbconvert_exporter": "python",
   "pygments_lexer": "ipython3",
   "version": "3.11.9"
  }
 },
 "nbformat": 4,
 "nbformat_minor": 4
}
