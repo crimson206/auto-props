{
 "cells": [
  {
   "cell_type": "markdown",
   "metadata": {},
   "source": [
    "## Testing type_to_str function"
   ]
  },
  {
   "cell_type": "code",
   "execution_count": null,
   "metadata": {},
   "outputs": [],
   "source": [
    "from typing import List, Dict, Union, Any\n",
    "\n",
    "# Basic types\n",
    "print(\"Basic types:\")\n",
    "print(f\"str: {type_to_str(str)}\")\n",
    "print(f\"int: {type_to_str(int)}\")\n",
    "print(f\"float: {type_to_str(float)}\")\n",
    "print(f\"bool: {type_to_str(bool)}\")\n",
    "print(f\"None: {type_to_str(None)}\")\n",
    "\n",
    "# Complex types\n",
    "print(\"\\nComplex types:\")\n",
    "print(f\"List: {type_to_str(List)}\")\n",
    "print(f\"Dict: {type_to_str(Dict)}\")\n",
    "print(f\"Union: {type_to_str(Union)}\")\n",
    "print(f\"Any: {type_to_str(Any)}\")\n",
    "\n",
    "# Custom class\n",
    "class CustomClass:\n",
    "    pass\n",
    "\n",
    "print(\"\\nCustom class:\")\n",
    "print(f\"CustomClass: {type_to_str(CustomClass)}\")\n",
    "\n",
    "# Function\n",
    "def custom_function():\n",
    "    pass\n",
    "\n",
    "print(\"\\nFunction:\")\n",
    "print(f\"custom_function: {type_to_str(custom_function)}\")\n",
    "\n",
    "# String representation of type\n",
    "print(\"\\nString representation:\")\n",
    "print(f\"'custom_type': {type_to_str('custom_type')}\")\n",
    "\n",
    "# Generic types\n",
    "from typing import TypeVar, Generic\n",
    "\n",
    "T = TypeVar('T')\n",
    "\n",
    "class GenericClass(Generic[T]):\n",
    "    pass\n",
    "\n",
    "print(\"\\nGeneric types:\")\n",
    "print(f\"GenericClass: {type_to_str(GenericClass)}\")\n",
    "print(f\"GenericClass[int]: {type_to_str(GenericClass[int])}\")\n",
    "\n",
    "# Built-in classes\n",
    "print(\"\\nBuilt-in classes:\")\n",
    "print(f\"list: {type_to_str(list)}\")\n",
    "print(f\"dict: {type_to_str(dict)}\")\n",
    "print(f\"tuple: {type_to_str(tuple)}\")\n",
    "print(f\"set: {type_to_str(set)}\")\n",
    "\n",
    "# Module\n",
    "import math\n",
    "\n",
    "print(\"\\nModule:\")\n",
    "print(f\"math module: {type_to_str(math)}\")"
   ]
  }
 ],
 "metadata": {
  "kernelspec": {
   "display_name": "Python 3",
   "language": "python",
   "name": "python3"
  },
  "language_info": {
   "codemirror_mode": {
    "name": "ipython",
    "version": 3
   },
   "file_extension": ".py",
   "mimetype": "text/x-python",
   "name": "python",
   "nbconvert_exporter": "python",
   "pygments_lexer": "ipython3",
   "version": "3.8.0"
  }
 },
 "nbformat": 4,
 "nbformat_minor": 4
}